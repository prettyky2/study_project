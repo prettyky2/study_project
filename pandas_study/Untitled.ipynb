{
 "cells": [
  {
   "cell_type": "code",
   "execution_count": 4,
   "id": "457fe242-75e0-4844-9cbc-78ce41ecf483",
   "metadata": {},
   "outputs": [],
   "source": [
    "import numpy as np\n",
    "import matplotlib.pyplot as plt\n",
    "%matplotlib inline"
   ]
  },
  {
   "cell_type": "markdown",
   "id": "649b5507-b9e1-4032-a8d9-603d350e50e0",
   "metadata": {},
   "source": [
    "### This is Header"
   ]
  },
  {
   "cell_type": "markdown",
   "id": "52e7da71-92c7-4c26-98d3-5db0fb3b4153",
   "metadata": {},
   "source": [
    "** 강조 텍스트입니다**"
   ]
  },
  {
   "cell_type": "markdown",
   "id": "bc40f391-95eb-407e-86bd-b5c3319a746c",
   "metadata": {},
   "source": [
    "array1 = np.array([1,2,3,4])\n",
    "plt.hi"
   ]
  },
  {
   "cell_type": "code",
   "execution_count": null,
   "id": "3484bae2-7cec-428e-8ab5-ad0f8ec6f2d8",
   "metadata": {},
   "outputs": [],
   "source": []
  }
 ],
 "metadata": {
  "kernelspec": {
   "display_name": "Python 3 (ipykernel)",
   "language": "python",
   "name": "python3"
  },
  "language_info": {
   "codemirror_mode": {
    "name": "ipython",
    "version": 3
   },
   "file_extension": ".py",
   "mimetype": "text/x-python",
   "name": "python",
   "nbconvert_exporter": "python",
   "pygments_lexer": "ipython3",
   "version": "3.12.2"
  }
 },
 "nbformat": 4,
 "nbformat_minor": 5
}
